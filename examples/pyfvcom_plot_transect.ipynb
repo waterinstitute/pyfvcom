{
 "cells": [
  {
   "cell_type": "markdown",
   "metadata": {},
   "source": [
    "### PyFVCOM plotting tools examples\n",
    "\n",
    "Here, we take a transect through the water column temperature or salinity dato and plot it. \n",
    "\n",
    "We load some model output into an object which can be passed to a number of plotting objects. These objects have methods for plotting different aspects of the data."
   ]
  },
  {
   "cell_type": "code",
   "execution_count": 25,
   "metadata": {
    "collapsed": true
   },
   "outputs": [],
   "source": [
    "%matplotlib inline"
   ]
  },
  {
   "cell_type": "code",
   "execution_count": 26,
   "metadata": {
    "collapsed": false
   },
   "outputs": [],
   "source": [
    "# Load an FVCOM model output and plot a surface.\n",
    "from PyFVCOM.read import FileReader\n",
    "from PyFVCOM.plot import Plotter, Depth\n",
    "#from PyFVCOM.tide import make_water_column\n",
    "from cmocean import cm\n",
    "import matplotlib\n",
    "matplotlib.use('TkAgg')\n",
    "import matplotlib.pyplot as plt\n",
    "# Load an FVCOM model output and plot a surface.\n",
    "#from PyFVCOM.read import FileReader\n",
    "#from PyFVCOM.plot import Plotter, Time, Depth\n",
    "#from PyFVCOM.tide import make_water_column\n",
    "#from cmocean import cm\n",
    "#import matplotlib.pyplot as plt\n",
    "import mpl_toolkits\n",
    "from IPython import display\n",
    "import os, time\n",
    "import numpy as np"
   ]
  },
  {
   "cell_type": "markdown",
   "metadata": {},
   "source": [
    "### Time snaps to plot. \n",
    "We set this to load only those snaps, and not all time records from the FVCOM output file. \n",
    "If we set snaps = False, all the time records will be loaded.\n",
    "\n",
    "We can set the variable to_file = True to save the plots directly to some defined location. "
   ]
  },
  {
   "cell_type": "code",
   "execution_count": 27,
   "metadata": {},
   "outputs": [],
   "source": [
    "# Set time snaps to plot\n",
    "snaps = True\n",
    "snap1 = 100\n",
    "snap2 = 100\n",
    "#variable to plot in the transect ('temp', 'salinity')\n",
    "var_plot = 'salinity'\n",
    "\n",
    "# Set the option to display the plots (to_file = False) or to save to a file (to_file = True)\n",
    "to_file = False\n",
    "path_to_plots = r\"W:\\users\\odiaz\\models\\FVCOM\\intel_2022.0.2\\fvcom27\\run_PB\\OUTPUT_PB10.1_test\\netcdf\\plot_transect\"\n",
    "\n",
    "if to_file:\n",
    "    if not os.path.exists(path_to_plots):\n",
    "        try:\n",
    "            os.makedirs(path_to_plots)\n",
    "        except:\n",
    "            print(\"Can't create folder: \"+path_to_plots)\n",
    "            to_file = False\n"
   ]
  },
  {
   "cell_type": "markdown",
   "metadata": {},
   "source": [
    "### FVCOM file to read"
   ]
  },
  {
   "cell_type": "code",
   "execution_count": 28,
   "metadata": {
    "collapsed": true
   },
   "outputs": [
    {
     "name": "stdout",
     "output_type": "stream",
     "text": [
      "\"is\" with a literal. Did you mean \"==\"? (c:\\tools\\github\\pyfvcom\\PyFVCOM\\read.py:1824)\n",
      "\"is\" with a literal. Did you mean \"==\"? (c:\\tools\\github\\pyfvcom\\PyFVCOM\\read.py:1829)\n",
      "\"is\" with a literal. Did you mean \"==\"? (c:\\tools\\github\\pyfvcom\\PyFVCOM\\read.py:1824)\n",
      "\"is\" with a literal. Did you mean \"==\"? (c:\\tools\\github\\pyfvcom\\PyFVCOM\\read.py:1829)\n",
      "\"is\" with a literal. Did you mean \"==\"? (c:\\tools\\github\\pyfvcom\\PyFVCOM\\read.py:1824)\n",
      "\"is\" with a literal. Did you mean \"==\"? (c:\\tools\\github\\pyfvcom\\PyFVCOM\\read.py:1829)\n",
      "\"is\" with a literal. Did you mean \"==\"? (c:\\tools\\github\\pyfvcom\\PyFVCOM\\read.py:1824)\n",
      "\"is\" with a literal. Did you mean \"==\"? (c:\\tools\\github\\pyfvcom\\PyFVCOM\\read.py:1829)\n",
      "\"is\" with a literal. Did you mean \"==\"? (c:\\tools\\github\\pyfvcom\\PyFVCOM\\read.py:1824)\n",
      "\"is\" with a literal. Did you mean \"==\"? (c:\\tools\\github\\pyfvcom\\PyFVCOM\\read.py:1829)\n",
      "\"is\" with a literal. Did you mean \"==\"? (c:\\tools\\github\\pyfvcom\\PyFVCOM\\read.py:1824)\n",
      "\"is\" with a literal. Did you mean \"==\"? (c:\\tools\\github\\pyfvcom\\PyFVCOM\\read.py:1829)\n",
      "\"is\" with a literal. Did you mean \"==\"? (c:\\tools\\github\\pyfvcom\\PyFVCOM\\read.py:1824)\n",
      "\"is\" with a literal. Did you mean \"==\"? (c:\\tools\\github\\pyfvcom\\PyFVCOM\\read.py:1829)\n",
      "\"is\" with a literal. Did you mean \"==\"? (c:\\tools\\github\\pyfvcom\\PyFVCOM\\read.py:1824)\n",
      "\"is\" with a literal. Did you mean \"==\"? (c:\\tools\\github\\pyfvcom\\PyFVCOM\\read.py:1829)\n",
      "\"is\" with a literal. Did you mean \"==\"? (c:\\tools\\github\\pyfvcom\\PyFVCOM\\read.py:1824)\n",
      "\"is\" with a literal. Did you mean \"==\"? (c:\\tools\\github\\pyfvcom\\PyFVCOM\\read.py:1829)\n",
      "\"is\" with a literal. Did you mean \"==\"? (c:\\tools\\github\\pyfvcom\\PyFVCOM\\read.py:1824)\n",
      "\"is\" with a literal. Did you mean \"==\"? (c:\\tools\\github\\pyfvcom\\PyFVCOM\\read.py:1829)\n",
      "\"is\" with a literal. Did you mean \"==\"? (c:\\tools\\github\\pyfvcom\\PyFVCOM\\read.py:1824)\n",
      "\"is\" with a literal. Did you mean \"==\"? (c:\\tools\\github\\pyfvcom\\PyFVCOM\\read.py:1829)\n",
      "\"is\" with a literal. Did you mean \"==\"? (c:\\tools\\github\\pyfvcom\\PyFVCOM\\read.py:1824)\n",
      "\"is\" with a literal. Did you mean \"==\"? (c:\\tools\\github\\pyfvcom\\PyFVCOM\\read.py:1829)\n",
      "\"is\" with a literal. Did you mean \"==\"? (c:\\tools\\github\\pyfvcom\\PyFVCOM\\read.py:1824)\n",
      "\"is\" with a literal. Did you mean \"==\"? (c:\\tools\\github\\pyfvcom\\PyFVCOM\\read.py:1829)\n",
      "\"is\" with a literal. Did you mean \"==\"? (c:\\tools\\github\\pyfvcom\\PyFVCOM\\read.py:1824)\n",
      "\"is\" with a literal. Did you mean \"==\"? (c:\\tools\\github\\pyfvcom\\PyFVCOM\\read.py:1829)\n"
     ]
    },
    {
     "ename": "TypeError",
     "evalue": "strptime() argument 1 must be str, not range",
     "output_type": "error",
     "traceback": [
      "\u001b[1;31m---------------------------------------------------------------------------\u001b[0m",
      "\u001b[1;31mTypeError\u001b[0m                                 Traceback (most recent call last)",
      "File \u001b[1;32mc:\\tools\\github\\pyfvcom\\PyFVCOM\\read.py:270\u001b[0m, in \u001b[0;36m_TimeReader.__init__\u001b[1;34m(self, filename, dims, verbose)\u001b[0m\n\u001b[0;32m    269\u001b[0m \u001b[39mtry\u001b[39;00m:\n\u001b[1;32m--> 270\u001b[0m     \u001b[39mself\u001b[39m\u001b[39m.\u001b[39m_dims[\u001b[39m'\u001b[39m\u001b[39mtime\u001b[39m\u001b[39m'\u001b[39m] \u001b[39m=\u001b[39m np\u001b[39m.\u001b[39;49marange(\u001b[39m*\u001b[39;49m[\u001b[39mself\u001b[39;49m\u001b[39m.\u001b[39;49m_time_to_index(i) \u001b[39mfor\u001b[39;49;00m i \u001b[39min\u001b[39;49;00m \u001b[39mself\u001b[39;49m\u001b[39m.\u001b[39;49m_dims[\u001b[39m'\u001b[39;49m\u001b[39mtime\u001b[39;49m\u001b[39m'\u001b[39;49m]])\n\u001b[0;32m    271\u001b[0m \u001b[39mexcept\u001b[39;00m \u001b[39mTypeError\u001b[39;00m:\n",
      "\u001b[1;31mTypeError\u001b[0m: arange() requires stop to be specified.",
      "\nDuring handling of the above exception, another exception occurred:\n",
      "\u001b[1;31mTypeError\u001b[0m                                 Traceback (most recent call last)",
      "Cell \u001b[1;32mIn [28], line 8\u001b[0m\n\u001b[0;32m      5\u001b[0m \u001b[38;5;66;03m#mydir = r\"W:\\users\\odiaz\\models\\FVCOM\\intel_2022.0.2\\fvcom27\\run_MissRiverWedge\\OUTDIR_mrp07#PBS\\netcdf\"\u001b[39;00m\n\u001b[0;32m      6\u001b[0m \u001b[38;5;66;03m#myfile = 'mrp07#PBS_0001.nc'\u001b[39;00m\n\u001b[0;32m      7\u001b[0m \u001b[38;5;28;01mif\u001b[39;00m snaps:\n\u001b[1;32m----> 8\u001b[0m     fvcom \u001b[38;5;241m=\u001b[39m \u001b[43mFileReader\u001b[49m\u001b[43m(\u001b[49m\u001b[43m \u001b[49m\u001b[43mos\u001b[49m\u001b[38;5;241;43m.\u001b[39;49m\u001b[43mpath\u001b[49m\u001b[38;5;241;43m.\u001b[39;49m\u001b[43mjoin\u001b[49m\u001b[43m(\u001b[49m\u001b[43mmydir\u001b[49m\u001b[43m,\u001b[49m\u001b[43m \u001b[49m\u001b[43mmyfile\u001b[49m\u001b[43m)\u001b[49m\u001b[43m,\u001b[49m\u001b[43m \u001b[49m\u001b[43mdims\u001b[49m\u001b[38;5;241;43m=\u001b[39;49m\u001b[43m{\u001b[49m\u001b[38;5;124;43m'\u001b[39;49m\u001b[38;5;124;43mtime\u001b[39;49m\u001b[38;5;124;43m'\u001b[39;49m\u001b[43m:\u001b[49m\u001b[43m \u001b[49m\u001b[38;5;28;43mrange\u001b[39;49m\u001b[43m(\u001b[49m\u001b[43msnap1\u001b[49m\u001b[43m,\u001b[49m\u001b[43m \u001b[49m\u001b[43msnap2\u001b[49m\u001b[43m)\u001b[49m\u001b[43m}\u001b[49m\u001b[43m,\u001b[49m\u001b[43m \u001b[49m\u001b[43mvariables\u001b[49m\u001b[38;5;241;43m=\u001b[39;49m\u001b[43m[\u001b[49m\u001b[38;5;124;43m'\u001b[39;49m\u001b[38;5;124;43mtime\u001b[39;49m\u001b[38;5;124;43m'\u001b[39;49m\u001b[43m,\u001b[49m\u001b[38;5;124;43m'\u001b[39;49m\u001b[38;5;124;43mh\u001b[39;49m\u001b[38;5;124;43m'\u001b[39;49m\u001b[43m,\u001b[49m\u001b[43mvar_plot\u001b[49m\u001b[43m]\u001b[49m\u001b[43m)\u001b[49m\n\u001b[0;32m      9\u001b[0m \u001b[38;5;28;01melse\u001b[39;00m:\n\u001b[0;32m     10\u001b[0m     fvcom \u001b[38;5;241m=\u001b[39m FileReader( os\u001b[38;5;241m.\u001b[39mpath\u001b[38;5;241m.\u001b[39mjoin(mydir, myfile), variables\u001b[38;5;241m=\u001b[39m[\u001b[38;5;124m'\u001b[39m\u001b[38;5;124mtime\u001b[39m\u001b[38;5;124m'\u001b[39m,\u001b[38;5;124m'\u001b[39m\u001b[38;5;124mh\u001b[39m\u001b[38;5;124m'\u001b[39m,var_plot])\n",
      "File \u001b[1;32mc:\\tools\\github\\pyfvcom\\PyFVCOM\\read.py:560\u001b[0m, in \u001b[0;36mFileReader.__init__\u001b[1;34m(self, fvcom, variables, dims, zone, debug, verbose, subset_method)\u001b[0m\n\u001b[0;32m    556\u001b[0m             \u001b[39mprint\u001b[39m(\u001b[39m'\u001b[39m\u001b[39mMaking dimension \u001b[39m\u001b[39m{}\u001b[39;00m\u001b[39m iterable\u001b[39m\u001b[39m'\u001b[39m\u001b[39m.\u001b[39mformat(dim))\n\u001b[0;32m    558\u001b[0m         \u001b[39mself\u001b[39m\u001b[39m.\u001b[39m_dims[dim] \u001b[39m=\u001b[39m [\u001b[39mself\u001b[39m\u001b[39m.\u001b[39m_dims[dim]]\n\u001b[1;32m--> 560\u001b[0m \u001b[39mself\u001b[39;49m\u001b[39m.\u001b[39;49m_load_time()\n\u001b[0;32m    561\u001b[0m \u001b[39mself\u001b[39m\u001b[39m.\u001b[39m_dims \u001b[39m=\u001b[39m copy\u001b[39m.\u001b[39mdeepcopy(\u001b[39mself\u001b[39m\u001b[39m.\u001b[39mtime\u001b[39m.\u001b[39m_dims)  \u001b[39m# grab the updated dimensions from the _TimeReader object.\u001b[39;00m\n\u001b[0;32m    563\u001b[0m \u001b[39m# Update the time dimension number we've read in the time data (in case we did so with a specified dimension\u001b[39;00m\n\u001b[0;32m    564\u001b[0m \u001b[39m# range).\u001b[39;00m\n",
      "File \u001b[1;32mc:\\tools\\github\\pyfvcom\\PyFVCOM\\read.py:1173\u001b[0m, in \u001b[0;36mFileReader._load_time\u001b[1;34m(self)\u001b[0m\n\u001b[0;32m   1172\u001b[0m \u001b[39mdef\u001b[39;00m \u001b[39m_load_time\u001b[39m(\u001b[39mself\u001b[39m):\n\u001b[1;32m-> 1173\u001b[0m     \u001b[39mself\u001b[39m\u001b[39m.\u001b[39mtime \u001b[39m=\u001b[39m _TimeReader(\u001b[39mself\u001b[39;49m\u001b[39m.\u001b[39;49m_fvcom, dims\u001b[39m=\u001b[39;49m\u001b[39mself\u001b[39;49m\u001b[39m.\u001b[39;49m_dims)\n",
      "File \u001b[1;32mc:\\tools\\github\\pyfvcom\\PyFVCOM\\read.py:272\u001b[0m, in \u001b[0;36m_TimeReader.__init__\u001b[1;34m(self, filename, dims, verbose)\u001b[0m\n\u001b[0;32m    270\u001b[0m         \u001b[39mself\u001b[39m\u001b[39m.\u001b[39m_dims[\u001b[39m'\u001b[39m\u001b[39mtime\u001b[39m\u001b[39m'\u001b[39m] \u001b[39m=\u001b[39m np\u001b[39m.\u001b[39marange(\u001b[39m*\u001b[39m[\u001b[39mself\u001b[39m\u001b[39m.\u001b[39m_time_to_index(i) \u001b[39mfor\u001b[39;00m i \u001b[39min\u001b[39;00m \u001b[39mself\u001b[39m\u001b[39m.\u001b[39m_dims[\u001b[39m'\u001b[39m\u001b[39mtime\u001b[39m\u001b[39m'\u001b[39m]])\n\u001b[0;32m    271\u001b[0m     \u001b[39mexcept\u001b[39;00m \u001b[39mTypeError\u001b[39;00m:\n\u001b[1;32m--> 272\u001b[0m         \u001b[39mself\u001b[39m\u001b[39m.\u001b[39m_dims[\u001b[39m'\u001b[39m\u001b[39mtime\u001b[39m\u001b[39m'\u001b[39m] \u001b[39m=\u001b[39m np\u001b[39m.\u001b[39marange(\u001b[39m*\u001b[39m[\u001b[39mself\u001b[39;49m\u001b[39m.\u001b[39;49m_time_to_index(\u001b[39mself\u001b[39;49m\u001b[39m.\u001b[39;49m_dims[\u001b[39m'\u001b[39;49m\u001b[39mtime\u001b[39;49m\u001b[39m'\u001b[39;49m])])  \u001b[39m# make iterable\u001b[39;00m\n\u001b[0;32m    273\u001b[0m \u001b[39mfor\u001b[39;00m time \u001b[39min\u001b[39;00m \u001b[39mself\u001b[39m:\n\u001b[0;32m    274\u001b[0m     \u001b[39msetattr\u001b[39m(\u001b[39mself\u001b[39m, time, \u001b[39mgetattr\u001b[39m(\u001b[39mself\u001b[39m, time)[\u001b[39mself\u001b[39m\u001b[39m.\u001b[39m_dims[\u001b[39m'\u001b[39m\u001b[39mtime\u001b[39m\u001b[39m'\u001b[39m]])\n",
      "File \u001b[1;32mc:\\tools\\github\\pyfvcom\\PyFVCOM\\read.py:301\u001b[0m, in \u001b[0;36m_TimeReader._time_to_index\u001b[1;34m(self, *args, **kwargs)\u001b[0m\n\u001b[0;32m    281\u001b[0m \u001b[39mdef\u001b[39;00m \u001b[39m_time_to_index\u001b[39m(\u001b[39mself\u001b[39m, \u001b[39m*\u001b[39margs, \u001b[39m*\u001b[39m\u001b[39m*\u001b[39mkwargs):\n\u001b[0;32m    282\u001b[0m     \u001b[39m\"\"\"\u001b[39;00m\n\u001b[0;32m    283\u001b[0m \u001b[39m    Find the time index for the given time string (%Y-%m-%d %H:%M:%S.%f) or datetime object.\u001b[39;00m\n\u001b[0;32m    284\u001b[0m \n\u001b[1;32m   (...)\u001b[0m\n\u001b[0;32m    298\u001b[0m \n\u001b[0;32m    299\u001b[0m \u001b[39m    \"\"\"\u001b[39;00m\n\u001b[1;32m--> 301\u001b[0m     time_idx \u001b[39m=\u001b[39m time_to_index(\u001b[39mself\u001b[39;49m\u001b[39m.\u001b[39;49mdatetime, \u001b[39m*\u001b[39;49margs, \u001b[39m*\u001b[39;49m\u001b[39m*\u001b[39;49mkwargs)\n\u001b[0;32m    303\u001b[0m     \u001b[39mreturn\u001b[39;00m time_idx\n",
      "File \u001b[1;32mc:\\tools\\github\\pyfvcom\\PyFVCOM\\read.py:2378\u001b[0m, in \u001b[0;36mtime_to_index\u001b[1;34m(times, target_time, tolerance)\u001b[0m\n\u001b[0;32m   2376\u001b[0m \u001b[39mif\u001b[39;00m \u001b[39mnot\u001b[39;00m \u001b[39misinstance\u001b[39m(target_time, datetime):\n\u001b[0;32m   2377\u001b[0m     \u001b[39mtry\u001b[39;00m:\n\u001b[1;32m-> 2378\u001b[0m         target_time \u001b[39m=\u001b[39m datetime\u001b[39m.\u001b[39;49mstrptime(target_time, \u001b[39m'\u001b[39;49m\u001b[39m%\u001b[39;49m\u001b[39mY-\u001b[39;49m\u001b[39m%\u001b[39;49m\u001b[39mm-\u001b[39;49m\u001b[39m%d\u001b[39;49;00m\u001b[39m \u001b[39;49m\u001b[39m%\u001b[39;49m\u001b[39mH:\u001b[39;49m\u001b[39m%\u001b[39;49m\u001b[39mM:\u001b[39;49m\u001b[39m%\u001b[39;49m\u001b[39mS.\u001b[39;49m\u001b[39m%f\u001b[39;49;00m\u001b[39m'\u001b[39;49m)\n\u001b[0;32m   2379\u001b[0m     \u001b[39mexcept\u001b[39;00m \u001b[39mValueError\u001b[39;00m:\n\u001b[0;32m   2380\u001b[0m         \u001b[39m# Try again in case we've not been given fractional seconds, just to be nice.\u001b[39;00m\n\u001b[0;32m   2381\u001b[0m         target_time \u001b[39m=\u001b[39m datetime\u001b[39m.\u001b[39mstrptime(target_time, \u001b[39m'\u001b[39m\u001b[39m%\u001b[39m\u001b[39mY-\u001b[39m\u001b[39m%\u001b[39m\u001b[39mm-\u001b[39m\u001b[39m%d\u001b[39;00m\u001b[39m \u001b[39m\u001b[39m%\u001b[39m\u001b[39mH:\u001b[39m\u001b[39m%\u001b[39m\u001b[39mM:\u001b[39m\u001b[39m%\u001b[39m\u001b[39mS\u001b[39m\u001b[39m'\u001b[39m)\n",
      "\u001b[1;31mTypeError\u001b[0m: strptime() argument 1 must be str, not range"
     ]
    }
   ],
   "source": [
    "# Create an object which holds the model outputs. We're only loading\n",
    "# bathimetry to plot it. \n",
    "mydir = r\"W:\\users\\odiaz\\models\\FVCOM\\intel_2022.0.2\\fvcom27\\run_PB\\OUTPUT_PB10.1_test\\netcdf\"\n",
    "myfile = 'pb10.1_0001.nc'\n",
    "#mydir = r\"W:\\users\\odiaz\\models\\FVCOM\\intel_2022.0.2\\fvcom27\\run_MissRiverWedge\\OUTDIR_mrp07#PBS\\netcdf\"\n",
    "#myfile = 'mrp07#PBS_0001.nc'\n",
    "if snaps:\n",
    "    fvcom = FileReader( os.path.join(mydir, myfile), dims={'time': range(snap1, snap2)}, variables=['time','h',var_plot])\n",
    "else:\n",
    "    fvcom = FileReader( os.path.join(mydir, myfile), variables=['time','h',var_plot])"
   ]
  },
  {
   "cell_type": "markdown",
   "metadata": {},
   "source": [
    "### Select the transect to plot"
   ]
  },
  {
   "cell_type": "code",
   "execution_count": null,
   "metadata": {},
   "outputs": [],
   "source": [
    "# Make a plot of the topo/bathymetry.\n",
    "num = 2  # number of points for the transect (2 is the only available option now)\n",
    "#positions = np.zeros(shape=(2,2))\n",
    "#positions[0,:] = [x1 , y1]\n",
    "#positions[1,:] = [x2 , y2]\n",
    "#positions = np.array(((-5, 50), (-4.5, 49.5)))\n",
    "\n",
    "fig1 = plt.figure(1)\n",
    "plot = Plotter(fvcom, figure=fig1,\n",
    "               figsize=(20, 20),  \n",
    "               cartesian=True,             \n",
    "               cb_label='{} ({})'.format(fvcom.atts.h.long_name,\n",
    "                                         fvcom.atts.h.units),\n",
    "               cmap='jet')\n",
    "plot.plot_field(fvcom.data.h[:], cmap='jet')\n",
    "plot.axes.set_title('Topo/Bathymetry (m)')\n",
    "\n",
    "x = fig1.ginput(num)\n",
    "print(x)\n",
    "\n",
    "display.display(plt.gcf()) "
   ]
  },
  {
   "cell_type": "code",
   "execution_count": null,
   "metadata": {
    "collapsed": false
   },
   "outputs": [],
   "source": [
    "# Plot a temperature transect between two locations.\n",
    "positions = np.asarray(x)\n",
    "indices, distance = fvcom.horizontal_transect_nodes(positions)\n",
    "\n",
    "fig2 = plt.figure(2)\n",
    "plot = Depth(fvcom, figure=fig2, figsize=(20, 10), \n",
    "#             cb_label='Temperature ({})'.format(fvcom.ds.variables['temp'].units),\n",
    "             cb_label='Salinity ({})'.format(fvcom.ds.variables['salinity'].units),\n",
    "             cmap=cm.thermal)\n",
    "# fill_seabed makes the part of the plot below the seabed grey.\n",
    "\n",
    "#plot.plot_slice(distance / 1000,  # to kilometres from metres\n",
    "#                fvcom.grid.siglay_z[:, indices],\n",
    "#                fvcom.data.salinity[4, :, indices],\n",
    "#                fill_seabed=True)\n",
    "\n",
    "X = distance / 1000  # to kilometers from meters\n",
    "Y = fvcom.grid.siglay_z[:, indices]\n",
    "for i in range(len(fvcom.data.time[:])):\n",
    "    display.clear_output(wait=True)\n",
    "    Z = fvcom.data.salinity[i, :, indices].T\n",
    "\n",
    "    plot.plot_slice(X, Y, Z, fill_seabed=True)\n",
    "    plot.axes.set_xlim(right=(distance / 1000).max())  # set the x-axis to the data range\n",
    "    plot.axes.set_xlabel('Distance (km)')\n",
    "    plot.axes.set_ylabel('Depth (m)')\n",
    "    \n",
    "    date_stamp = fvcom.time.datetime[i].strftime('%Y%m%d%H%M%S')\n",
    "    date_stamp_title = fvcom.time.datetime[i].strftime('%Y-%m-%d %H:%M:%S')    \n",
    "\n",
    "    figname = \"fvcom_plot_transect_\"+var_plot+\"_\"+date_stamp+\".png\"\n",
    "    print(figname)\n",
    "\n",
    "    if to_file:\n",
    "        plot.figure.savefig(os.path.join(path_to_plots, figname), bbox_inches='tight')\n",
    "    else:\n",
    "        display.display(plt.gcf())        \n",
    "        \n",
    "        time.sleep(0.1)\n",
    "\n"
   ]
  }
 ],
 "metadata": {
  "kernelspec": {
   "display_name": "Python 3.8.13 ('pyfvcom')",
   "language": "python",
   "name": "python3"
  },
  "language_info": {
   "codemirror_mode": {
    "name": "ipython",
    "version": 3
   },
   "file_extension": ".py",
   "mimetype": "text/x-python",
   "name": "python",
   "nbconvert_exporter": "python",
   "pygments_lexer": "ipython3",
   "version": "3.8.13"
  },
  "vscode": {
   "interpreter": {
    "hash": "768ce62dc0a33f2a3348d5919e9931b679fcbad112f7ec49dd781b72fea92660"
   }
  }
 },
 "nbformat": 4,
 "nbformat_minor": 0
}

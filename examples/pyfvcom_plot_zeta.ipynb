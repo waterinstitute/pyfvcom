{
 "cells": [
  {
   "cell_type": "markdown",
   "metadata": {},
   "source": [
    "### PyFVCOM plotting tools\n",
    "\n",
    "Here, we demonstrate plotting of the surface elevation across the model domain at a given time.\n",
    "\n",
    "We load some model output into an object which can be passed to a number of plotting objects. These objects have methods for plotting different aspects of the data."
   ]
  },
  {
   "cell_type": "code",
   "execution_count": 2,
   "metadata": {
    "collapsed": true
   },
   "outputs": [],
   "source": [
    "#matplotlib inline"
   ]
  },
  {
   "cell_type": "code",
   "execution_count": 3,
   "metadata": {
    "collapsed": false
   },
   "outputs": [
    {
     "name": "stdout",
     "output_type": "stream",
     "text": [
      "No MPI some functions will be disabled (c:\\tools\\github\\pyfvcom\\PyFVCOM\\tide.py:41)\n",
      "No mpl_toolkits found in this python installation. Some functions will be disabled. (c:\\tools\\github\\pyfvcom\\PyFVCOM\\plot.py:40)\n"
     ]
    }
   ],
   "source": [
    "# Load an FVCOM model output and plot a surface.\n",
    "from PyFVCOM.read import FileReader\n",
    "from PyFVCOM.plot import Plotter\n",
    "#from PyFVCOM.tide import make_water_column\n",
    "#from cmocean import cm\n",
    "import matplotlib\n",
    "#GTK3Agg, GTK3Cairo, GTK4Agg, GTK4Cairo, MacOSX, nbAgg, QtAgg, QtCairo, TkAgg, TkCairo, WebAgg, WX, WXAgg, WXCairo, Qt5Agg, Qt5Cairo\n",
    "#['GTK3Agg', 'GTK3Cairo', 'GTK4Agg', 'GTK4Cairo', 'MacOSX', 'nbAgg', 'QtAgg', 'QtCairo', 'Qt5Agg', 'Qt5Cairo', 'TkAgg', 'TkCairo', 'WebAgg', 'WX', 'WXAgg', 'WXCairo', 'agg', 'cairo', 'pdf', 'pgf', 'ps', 'svg', 'template']\n",
    "matplotlib.use('QtAgg')\n",
    "import matplotlib.pyplot as plt\n",
    "import mpl_toolkits\n",
    "import os\n"
   ]
  },
  {
   "cell_type": "markdown",
   "metadata": {},
   "source": [
    "## Time snaps to plot. \n",
    "We set this to load only those snaps, and not all time records from the FVCOM output file. \n",
    "If we set snaps = False, all the time records will be loaded.\n",
    "\n",
    "We can set the variable to_file = True to save the plots directly to some defined location. "
   ]
  },
  {
   "cell_type": "code",
   "execution_count": 4,
   "metadata": {},
   "outputs": [],
   "source": [
    "# Set time snaps to plot\n",
    "snaps = True\n",
    "snap1 = 0\n",
    "snap2 = 5\n",
    "\n",
    "# Set the option to display the plots (to_file = False) or to save to a file (to_file = True)\n",
    "to_file = False\n",
    "path_to_plots = r\"W:\\users\\odiaz\\models\\FVCOM\\intel_2022.0.2\\fvcom27\\run_PB\\OUTPUT_PB10.1_test\\netcdf\\plot_zeta\"\n",
    "\n",
    "if to_file:\n",
    "    if not os.path.exists(path_to_plots):\n",
    "        try:\n",
    "            os.makedirs(path_to_plots)\n",
    "        except:\n",
    "            print(\"Can't create folder: \"+path_to_plots)\n",
    "            to_file = False\n"
   ]
  },
  {
   "cell_type": "code",
   "execution_count": 5,
   "metadata": {
    "collapsed": true
   },
   "outputs": [
    {
     "name": "stdout",
     "output_type": "stream",
     "text": [
      "WARNING: valid_min not used since it\n",
      "cannot be safely cast to variable data type (c:\\tools\\github\\pyfvcom\\PyFVCOM\\grid\\_grid.py:91)\n",
      "WARNING: valid_max not used since it\n",
      "cannot be safely cast to variable data type (c:\\tools\\github\\pyfvcom\\PyFVCOM\\grid\\_grid.py:91)\n"
     ]
    }
   ],
   "source": [
    "# Create an object which holds the model outputs. We're only loading\n",
    "# bathimetry to plot it. \n",
    "mydir = r\"W:\\users\\odiaz\\models\\FVCOM\\intel_2022.0.2\\fvcom27\\run_PB\\OUTPUT_PB10.1_test\\netcdf\"\n",
    "if snaps:\n",
    "    fvcom = FileReader( os.path.join(mydir, 'pb10.1_0001.nc'), dims={'time': range(snap1, snap2)}, variables=['time','zeta'])\n",
    "else:\n",
    "    fvcom = FileReader( os.path.join(mydir, 'pb10.1_0001.nc'), variables=['time','zeta'])"
   ]
  },
  {
   "cell_type": "code",
   "execution_count": 6,
   "metadata": {
    "collapsed": false
   },
   "outputs": [],
   "source": [
    "# Make a plot of the topo/bathymetry.\n",
    "\n",
    "plot = Plotter(fvcom, \n",
    "               figsize=(20, 20),  \n",
    "               cartesian=True,             \n",
    "               vmin=-1.0, vmax=1.0,\n",
    "               cb_label='{} ({})'.format(fvcom.atts.zeta.long_name,\n",
    "                                         fvcom.atts.zeta.units),\n",
    "               cmap='jet')\n",
    "\n",
    "for i in range(len(fvcom.data.time[:])):\n",
    "    plot.plot_field(fvcom.data.zeta[i, :], cmap='jet')\n",
    "    date_stamp = fvcom.time.datetime[i].strftime('%Y%m%d%H%M%S')\n",
    "    date_stamp_title = fvcom.time.datetime[i].strftime('%Y-%m-%d %H:%M:%S')\n",
    "    plot.axes.set_title('Surface Elevation (m)'+date_stamp_title)\n",
    "\n",
    "    figname = \"fvcom_plot_zeta_\"+date_stamp+\".png\"\n",
    "    print(figname)\n",
    "\n",
    "    if to_file:\n",
    "        plot.figure.savefig(os.path.join(path_to_plots, figname), bbox_inches='tight')\n",
    "    else:\n",
    "        plt.pause(0.5)\n",
    "\n",
    "    "
   ]
  }
 ],
 "metadata": {
  "kernelspec": {
   "display_name": "Python 3.8.13 ('pyfvcom')",
   "language": "python",
   "name": "python3"
  },
  "language_info": {
   "codemirror_mode": {
    "name": "ipython",
    "version": 3
   },
   "file_extension": ".py",
   "mimetype": "text/x-python",
   "name": "python",
   "nbconvert_exporter": "python",
   "pygments_lexer": "ipython3",
   "version": "3.8.13"
  },
  "vscode": {
   "interpreter": {
    "hash": "768ce62dc0a33f2a3348d5919e9931b679fcbad112f7ec49dd781b72fea92660"
   }
  }
 },
 "nbformat": 4,
 "nbformat_minor": 0
}
